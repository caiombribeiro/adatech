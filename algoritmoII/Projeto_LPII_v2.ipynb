{
  "cells": [
    {
      "cell_type": "markdown",
      "metadata": {
        "id": "QcN62PrTNuNr"
      },
      "source": [
        "# 💸 Projeto Final | Sistema de Controle Financeiro"
      ]
    },
    {
      "cell_type": "markdown",
      "metadata": {
        "id": "h-tcXISlOEy_"
      },
      "source": [
        "Deverá ser desenvolvido um sistema para controle financeiro que receba as movimentações e as armazena em um arquivo csv ou json.\n",
        "\n",
        "O sistema deverá ser capaz de realizar as seguintes operações:\n",
        "\n",
        "- **Criar** novos registros e identificar a data que o registro foi feito, qual tipo de movimentação, valor.\n",
        "\n",
        "  - Os tipos podem ser:\n",
        "    - Receita: o valor deve ser tratado como numérico e armazenado normalmente.\n",
        "    - Despesas: o valor deve ser recebido como positivo, mas armazenado como negativo\n",
        "    - Investimento: deve ter uma informação a mais de 'Montante', em que será calculado quanto o dinheiro rendeu desde o dia que foi investido.\n",
        "    Para essa finalidade utilize a seguinte formula: $M = C * (1 + i)^t$ ([Saiba mais](https://matematicafinanceira.org/juros-compostos/)), considere tudo em dias.\n",
        "- **Ler** registros: Deverá ser possível consultar os registros por data, tipo ou valor.\n",
        "- **Atualizar** registros: No caso de atualização, pode-se atualizar o valor, o tipo e a data deverá ser a de atualização do registro.\n",
        "- **Deletar**: Deverá ser possível deletar o registro (caso necessário, considere o indice do elemento como ID)\n",
        "\n",
        "Outras funcionalidades:\n",
        "- Crie uma função ```atualiza_rendimento``` que atualize os valores de rendimento sempre que chamada.\n",
        "- Crie uma função ```exportar_relatorio```, que seja possível exportar um relatorio final em csv ou json.\n",
        "- Crie pelo menos uma função de agrupamento, que seja capaz de mostrar o total de valor baseado em alguma informação (mes, tipo...)\n",
        "- Crie valores separados para identificar a data (dia, mes, ano)\n",
        "\n",
        "---\n",
        "\n",
        "👩‍💻 **O que vai ser avaliado**:\n",
        "\n",
        "- Se as funções e operações cuprem o seu objetivo\n",
        "- Reprodutibilidade do código: vou executar!\n",
        "\n",
        "👉🏻 **Envio do projeto**:\n",
        "- Via LMS **individualmente.** <br>\n",
        "  Apesar de ser em grupo, cada um de vocês precisa submeter o projeto.\n",
        "- Formato: arquivo .py ou .ipynb.\n",
        "- 📅 29/01, até as 23h59.\n",
        "\n",
        "⚠️ **Atenção**:\n",
        "- Não utilize a biblioteca pandas para resolução desse exercício\n"
      ]
    },
    {
      "cell_type": "markdown",
      "source": [
        "\n",
        "\n",
        "---\n",
        "\n"
      ],
      "metadata": {
        "id": "aJfj5SlBp_6M"
      }
    },
    {
      "cell_type": "markdown",
      "source": [
        "# 0. Pacote e Funções auxiliares"
      ],
      "metadata": {
        "id": "TecLjMYjAmYV"
      }
    },
    {
      "cell_type": "code",
      "source": [
        "from datetime import datetime, date\n",
        "import os"
      ],
      "metadata": {
        "id": "Y47fC4SQpF2C"
      },
      "execution_count": null,
      "outputs": []
    },
    {
      "cell_type": "code",
      "source": [
        "def validar_formato_data(data):\n",
        "    try:\n",
        "        # Tenta converter a string para um objeto datetime usando o formato esperado\n",
        "        datetime_obj = datetime.strptime(data, '%d/%m/%Y')\n",
        "        if datetime_obj <= datetime.now():\n",
        "          return True\n",
        "        else:\n",
        "          return False\n",
        "    except:\n",
        "        # Se ocorrer um erro de ValueError, a string não está no formato esperado\n",
        "        return False"
      ],
      "metadata": {
        "id": "kRYJVL1VpIdl"
      },
      "execution_count": null,
      "outputs": []
    },
    {
      "cell_type": "code",
      "source": [
        "def validar_formato_valor(valor):\n",
        "    try:\n",
        "        # Tenta converter a string para um objeto datetime usando o formato esperado\n",
        "        valor_novo = float(valor)\n",
        "        return True\n",
        "    except:\n",
        "        # Se ocorrer um erro de ValueError, o valor não está no formato esperado\n",
        "        return False"
      ],
      "metadata": {
        "id": "NHp-nKQTHQ3w"
      },
      "execution_count": null,
      "outputs": []
    },
    {
      "cell_type": "code",
      "source": [
        "def confirma_valor_positivo(valor):\n",
        "  try:\n",
        "    if float(valor) >= 0:\n",
        "      return True\n",
        "    else:\n",
        "      return False\n",
        "  except:\n",
        "    return False"
      ],
      "metadata": {
        "id": "PYYbfUozb0c6"
      },
      "execution_count": null,
      "outputs": []
    },
    {
      "cell_type": "code",
      "source": [
        "def conversao_valor_float(valor):\n",
        "  return round(float(valor),2)"
      ],
      "metadata": {
        "id": "tQPrk38XbnNo"
      },
      "execution_count": null,
      "outputs": []
    },
    {
      "cell_type": "code",
      "source": [
        "def descobrir_taxa_diaria(taxa_anual):\n",
        "    dias_no_ano = 365\n",
        "    taxa_anual /= 100\n",
        "    taxa_diaria = (1 + taxa_anual)**(1/dias_no_ano) - 1\n",
        "    return taxa_diaria\n"
      ],
      "metadata": {
        "id": "Yk-2aqCupK5X"
      },
      "execution_count": null,
      "outputs": []
    },
    {
      "cell_type": "code",
      "source": [
        "def calcular_montante(valor,taxa,dias):\n",
        "  return valor * (1 + taxa) ** dias"
      ],
      "metadata": {
        "id": "ijIft9QYyfmh"
      },
      "execution_count": null,
      "outputs": []
    },
    {
      "cell_type": "code",
      "source": [
        "def divisoria():\n",
        "  print(\"\\n------------------------------------------------------------------------------------------------------\")"
      ],
      "metadata": {
        "id": "BlZBW_jDy_Hs"
      },
      "execution_count": null,
      "outputs": []
    },
    {
      "cell_type": "markdown",
      "source": [
        "# 1. Funções"
      ],
      "metadata": {
        "id": "Y6SNPh5jAAel"
      }
    },
    {
      "cell_type": "markdown",
      "source": [
        "### 1.1 Criar Registro"
      ],
      "metadata": {
        "id": "iAs452RGAukR"
      }
    },
    {
      "cell_type": "code",
      "source": [
        "def criar_registro(tipo,valor, taxa_anual = 0, data_inicio = 0):\n",
        "  # Data de hoje\n",
        "  data_hoje = datetime.today()\n",
        "\n",
        "  valor = float(valor)\n",
        "\n",
        "  # Criação do registro\n",
        "  registro = {\"data\":data_hoje.strftime(\"%d/%m/%Y\"),\n",
        "              \"tipo\":tipo.lower(),\n",
        "              \"valor\":valor}\n",
        "\n",
        "  # Criação do montante caso o tipo seja investimento\n",
        "  if tipo.lower() == \"investimento\":\n",
        "\n",
        "    # Cálculo da quantidade de dias entre a data fornecida e a data atual\n",
        "    data_inicio = datetime.strptime(data_inicio,'%d/%m/%Y')\n",
        "    diferenca_em_dias = (data_hoje - data_inicio).days\n",
        "\n",
        "    # Cálculo da taxa anual\n",
        "    taxa_diaria = descobrir_taxa_diaria(taxa_anual)\n",
        "\n",
        "    montante = calcular_montante(float(valor),taxa_diaria,diferenca_em_dias)\n",
        "    registro[\"montante\"] = round(montante,2)\n",
        "\n",
        "  # Criação da despesa com valor negativo\n",
        "  elif tipo.lower() == \"despesa\":\n",
        "    registro[\"valor\"] = -1 * valor\n",
        "\n",
        "  print(\"\\n\\nRegistro adicionado com sucesso!\")\n",
        "  divisoria()\n",
        "  return registro"
      ],
      "metadata": {
        "id": "XlL_PjekrzA6"
      },
      "execution_count": null,
      "outputs": []
    },
    {
      "cell_type": "markdown",
      "source": [
        "### 1.2 Ler Registros"
      ],
      "metadata": {
        "id": "h2lElfEvodH0"
      }
    },
    {
      "cell_type": "markdown",
      "source": [
        "Vai percorrer a lista de registros, procurando em cada dicionário[campo_de_busca] o valor_do_campo desejado e retornando em uma lista de registros correspondentes.\n"
      ],
      "metadata": {
        "id": "FnsqJyapRdNT"
      }
    },
    {
      "cell_type": "code",
      "source": [
        "def ler_registro():\n",
        "\n",
        "  campos_validos = [\"data\", \"tipo\", \"valor\"]\n",
        "\n",
        "  print(\"\\nInforme através de qual campo deseja ler os registros: Data, Tipo ou Valor.\\n\")\n",
        "  campo_de_busca = input(\"Campo: \").lower()\n",
        "  while campo_de_busca not in campos_validos:\n",
        "    print(\"\\nCampo inválido! Digite uma das opções: Data, Tipo ou Valor.\\n\")\n",
        "    campo_de_busca = input(\"Campo: \").lower()\n",
        "\n",
        "  if campo_de_busca == \"tipo\":\n",
        "    print(\"\\n\\nAgora, informe o tipo: Receita, Despesa ou Investimento.\\n\")\n",
        "    valor_do_campo = input(\"Tipo: \")\n",
        "    while valor_do_campo.lower() not in [\"receita\", \"despesa\",\"investimento\"]:\n",
        "      print(\"\\nTipo inválido! informe o tipo: Receita, Despesa ou Investimento.\\n\")\n",
        "      valor_do_campo = input(\"Tipo: \")\n",
        "  elif campo_de_busca == \"data\":\n",
        "    print(\"\\n\\nAgora, Informe a data em dd/mm/yyyy:\\n\")\n",
        "    valor_do_campo = input(\"Data: \")\n",
        "    while validar_formato_data(valor_do_campo) == False:\n",
        "      print(\"\\nData com formato inválido! Informe uma data correta em dd/mm/yyyy:\\n\")\n",
        "      valor_do_campo = input(\"Data: \")\n",
        "  else:\n",
        "    print(\"\\n\\nAgora, Informe o valor.\\n\")\n",
        "    valor_do_campo = input(\"Valor: \")\n",
        "    while confirma_valor_positivo(valor_do_campo) == False:\n",
        "      print(\"\\nValor com formato inválido! Informe o valor em número positivo:\\n\")\n",
        "      valor_do_campo = input(\"Valor: \")\n",
        "    valor_do_campo = conversao_valor_float(valor_do_campo)\n",
        "\n",
        "  # lista no programa principal\n",
        "  global lista\n",
        "  global consulta\n",
        "  consulta = []\n",
        "  for registro in lista:\n",
        "    if campo_de_busca != \"valor\":\n",
        "      if registro[campo_de_busca.lower()] == valor_do_campo.lower():\n",
        "        consulta.append(registro)\n",
        "    else:\n",
        "      if registro[campo_de_busca.lower()] == valor_do_campo or registro[campo_de_busca.lower()] == (-1 * valor_do_campo):\n",
        "        consulta.append(registro)\n",
        "\n",
        "\n",
        "  if len(consulta) > 1:\n",
        "    print(f\"\\n\\nA sua consulta retornou {len(consulta)} resultados:\\n\")\n",
        "  else:\n",
        "    print(f\"\\n\\nA sua consulta retornou {len(consulta)} resultado:\\n\")\n",
        "  for registro in enumerate(consulta):\n",
        "    print(f\"{registro[0]+1} - {registro[1]}\")\n",
        "  divisoria()\n",
        "\n",
        "\n"
      ],
      "metadata": {
        "id": "2n1K0ePhrOuP"
      },
      "execution_count": null,
      "outputs": []
    },
    {
      "cell_type": "markdown",
      "source": [
        "### 1.3 Atualizar Registro"
      ],
      "metadata": {
        "id": "aI-luhxvolO4"
      }
    },
    {
      "cell_type": "code",
      "source": [
        "def atualiza_registro(data,tipo,valor):\n",
        "  global lista\n",
        "  for registro in lista:\n",
        "    # Encontrar o registro buscando os 3 principais campos\n",
        "    if registro[\"data\"] == data and registro[\"tipo\"] == tipo.lower() and registro[\"valor\"] == valor:\n",
        "      print(f\"\\n\\nRegistro encontrado! data: {registro['data']}, tipo: {registro['tipo']}, valor: {registro['valor']}\\n\")\n",
        "\n",
        "\n",
        "\n",
        "\n",
        "      # Escolher qual o campo a ser alterado\n",
        "      print(\"\\nVocê quer alterar qual dos campos? Digite tipo ou valor\\n\")\n",
        "      alteracao = input(\"Campo: \")\n",
        "      while alteracao.lower() not in [\"tipo\",\"valor\"]:\n",
        "        print(\"\\nVocê digitou um campo inválido. Digite tipo ou valor\\n\")\n",
        "        alteracao = input(\"Campo: \")\n",
        "\n",
        "\n",
        "\n",
        "\n",
        "      # Alteração do campo data automaticamente de acordo com o dia atual\n",
        "      data_hoje = datetime.today()\n",
        "      registro[\"data\"] = data_hoje.strftime(\"%d/%m/%Y\")\n",
        "\n",
        "\n",
        "\n",
        "\n",
        "      # Alteração do campo tipo\n",
        "      if alteracao.lower() == \"tipo\":\n",
        "        print(\"\\n\\nAgora, digite o tipo atualizado: Receita, Despesa ou Investimento.\\n\")\n",
        "        valor_alteracao = input(\"Tipo: \")\n",
        "        while valor_alteracao.lower() not in [\"despesa\",\"receita\",\"investimento\"]:\n",
        "          print(\"\\n\\nVocê digitou um tipo inválido. Digite o tipo atualizado: Receita, Despesa ou Investimento.\\n\")\n",
        "          valor_alteracao = input(\"Tipo: \")\n",
        "\n",
        "        print(\"\\n\")\n",
        "\n",
        "\n",
        "        # tipo == receita: ele voltará identico caso já fosse receita no registro. Se fosse despesa, ele multiplica por -1 para ficar positivo. E, se fosse investimento, ele zera o montante.\n",
        "        if valor_alteracao.lower() == \"receita\":\n",
        "\n",
        "          if registro[\"tipo\"] == \"receita\":\n",
        "            return print(f\"\\nRegistro não atualizado. O tipo selecionado era o mesmo do registro\")\n",
        "\n",
        "          elif registro[\"tipo\"] == \"despesa\":\n",
        "            registro[\"tipo\"] = \"receita\"\n",
        "            registro[\"valor\"] *= -1\n",
        "\n",
        "          else:\n",
        "            registro[\"tipo\"] = \"receita\"\n",
        "            registro.pop(\"montante\")\n",
        "\n",
        "          return print(f\"\\nRegistro Atualizado com sucesso! data: {registro['data']}, Tipo: {registro['tipo']}, Valor: {registro['valor']}\")\n",
        "\n",
        "\n",
        "\n",
        "        # tipo == despesa: Se fosse receita, multiplica por -1. Se fosse despesa, não muda nada. Se fosse, investimento, multiplica o valor por -1 e zera o montante.\n",
        "        elif valor_alteracao.lower() == \"despesa\":\n",
        "\n",
        "          if registro[\"tipo\"] == \"receita\":\n",
        "            registro[\"tipo\"] = \"despesa\"\n",
        "            registro[\"valor\"] *= -1\n",
        "\n",
        "          elif registro[\"tipo\"] == \"despesa\":\n",
        "            return print(f\"\\nRegistro não atualizado. O tipo selecionado era o mesmo do registro\")\n",
        "\n",
        "          else:\n",
        "            registro[\"tipo\"] = \"despesa\"\n",
        "            registro[\"valor\"] *= -1\n",
        "            registro.pop(\"montante\")\n",
        "\n",
        "          return print(f\"\\nRegistro Atualizado com sucesso! Data: {registro['data']}, Tipo: {registro['tipo']}, Valor: {registro['valor']}\")\n",
        "\n",
        "\n",
        "\n",
        "        # tipo == investimento:\n",
        "        else:\n",
        "\n",
        "          if registro[\"tipo\"] == \"receita\":\n",
        "            registro[\"tipo\"] = \"investimento\"\n",
        "\n",
        "            data_inicio = input(\"Qual a data inicial do investimento?\\n\")\n",
        "            while validar_formato_data(data_inicio) == False:\n",
        "              data_inicio = input(\"\\nData com formato incompatível. Digite uma data inicial válida dd/mm/yyyy:\\n\")\n",
        "\n",
        "            data_inicio = datetime.strptime(data_inicio,'%d/%m/%Y')\n",
        "            diferenca_dias = (data_hoje - data_inicio).days\n",
        "\n",
        "            print(\"\\nDigite a taxa anual de investimento:\\n\")\n",
        "            taxa_anual = input(\"\\nTaxa: \")\n",
        "            while confirma_valor_positivo(taxa_anual) == False:\n",
        "              print(\"\\nValor inválido! Digite a taxa anual de investimento:\\n\")\n",
        "              taxa_anual = input(\"\\nTaxa: \")\n",
        "\n",
        "            montante = calcular_montante(registro[\"valor\"],descobrir_taxa_diaria(taxa_anual),diferenca_dias)\n",
        "            registro[\"montante\"] = round(montante,2)\n",
        "\n",
        "\n",
        "          elif registro[\"tipo\"] == \"despesa\":\n",
        "            registro[\"tipo\"] = \"investimento\"\n",
        "            registro[\"valor\"] *= -1\n",
        "\n",
        "            data_inicio = input(\"Qual a data inicial do investimento?\\n\")\n",
        "            while validar_formato_data(data_inicio) == False:\n",
        "              data_inicio = input(\"\\nData com formato incompatível. Digite uma data inicial válida dd/mm/yyyy:\\n\")\n",
        "\n",
        "            data_inicio = datetime.strptime(data_inicio,'%d/%m/%Y')\n",
        "            diferenca_dias = (data_hoje - data_inicio).days\n",
        "\n",
        "            print(\"\\nDigite a taxa anual de investimento:\\n\")\n",
        "            taxa_anual = input(\"\\nTaxa: \")\n",
        "            while confirma_valor_positivo(taxa_anual) == False:\n",
        "              print(\"\\nValor inválido! Digite a taxa anual de investimento:\\n\")\n",
        "              taxa_anual = input(\"\\nTaxa: \")\n",
        "\n",
        "            montante = calcular_montante(registro[\"valor\"],descobrir_taxa_diaria(taxa_anual),diferenca_dias)\n",
        "            registro[\"montante\"] = round(montante,2)\n",
        "\n",
        "\n",
        "          else:\n",
        "            return print(f\"\\nRegistro não atualizado. O tipo selecionado era o mesmo do registro\")\n",
        "\n",
        "          return print(f\"\\nRegistro Atualizado com sucesso! Data: {registro['data']}, Tipo: {registro['tipo']}, Valor: {registro['valor']}, Montante: {registro['montante']}\")\n",
        "\n",
        "\n",
        "\n",
        "\n",
        "\n",
        "      # Alteração do campo valor\n",
        "      else:\n",
        "        print(f\"\\nDigite o valor atualizado.\\n\")\n",
        "        valor_alteracao = input(\"Valor: \")\n",
        "        while confirma_valor_positivo(valor_alteracao) == False:\n",
        "          print(f\"\\nDigite um valor válido, sendo número e maior que zero.n\")\n",
        "          valor_alteracao = input(\"Valor: \")\n",
        "        valor_alteracao = conversao_valor_float(valor_alteracao)\n",
        "\n",
        "        if registro[\"tipo\"] == \"despesa\":\n",
        "          registro[\"valor\"] = -1 * valor_alteracao\n",
        "        else:\n",
        "          registro[\"valor\"] = valor_alteracao\n",
        "\n",
        "        return print(f\"\\nRegistro Atualizado com sucesso! Data: {registro['data']}, Tipo: {registro['tipo']}, Valor: {registro['valor']}\")\n",
        "\n",
        "\n",
        "\n",
        "  print(\"\\nRegistro não encontrado\")"
      ],
      "metadata": {
        "id": "gvouGkhar5ki"
      },
      "execution_count": null,
      "outputs": []
    },
    {
      "cell_type": "markdown",
      "source": [
        "### 1.4 Deletar Registro"
      ],
      "metadata": {
        "id": "Fb8JaqudorWg"
      }
    },
    {
      "cell_type": "code",
      "source": [
        "def deletar_registro(data,tipo,valor):\n",
        "  global lista\n",
        "  registro_removido = {}\n",
        "  for registro in lista:\n",
        "    if registro[\"data\"] == data and registro[\"tipo\"] == tipo.lower() and registro[\"valor\"] == valor:\n",
        "      registro_removido = registro\n",
        "  print(\"\\n\\nRegistro deletado com sucesso!\")\n",
        "  return lista.remove(registro_removido)"
      ],
      "metadata": {
        "id": "0eaoxTnhr8wv"
      },
      "execution_count": null,
      "outputs": []
    },
    {
      "cell_type": "markdown",
      "source": [
        "### 1.5 Atualiza Rendimento"
      ],
      "metadata": {
        "id": "YLdXr_cCouF9"
      }
    },
    {
      "cell_type": "code",
      "source": [
        "def atualiza_rendimento(data, tipo, montante, taxa_rendimento_anual):\n",
        "  global lista\n",
        "\n",
        "  for registro in lista:\n",
        "    if registro[\"data\"] == data and registro[\"tipo\"] == tipo.lower() and registro[\"montante\"] == montante:\n",
        "\n",
        "      data_hoje = datetime.today()\n",
        "      data_anterior = datetime.strptime(registro[\"data\"], '%d/%m/%Y')\n",
        "\n",
        "      diferenca_em_dias = (data_hoje - data_anterior).days\n",
        "\n",
        "      # Cálculo da taxa diária considerando a taxa de rendimento anual\n",
        "      taxa_rendimento_diaria = descobrir_taxa_diaria(taxa_rendimento_anual)\n",
        "\n",
        "      # Cálculo do rendimento atualizado\n",
        "      novo_rendimento = round(montante * (1 + taxa_rendimento_diaria) ** diferenca_em_dias,2)\n",
        "\n",
        "\n",
        "      registro[\"data\"] = data_hoje.strftime('%d/%m/%Y')\n",
        "      registro[\"montante\"] = novo_rendimento\n",
        "\n",
        "  print(\"\\n\\n Rendimento Atualizado com sucesso!\")\n",
        "\n",
        "\n"
      ],
      "metadata": {
        "id": "gP1x-ryrAi7p"
      },
      "execution_count": null,
      "outputs": []
    },
    {
      "cell_type": "markdown",
      "source": [
        "### 1.5.5 Atualiza Todos Rendimentos"
      ],
      "metadata": {
        "id": "TZjgc32SQZem"
      }
    },
    {
      "cell_type": "code",
      "source": [
        "def atualiza_todos_rendimentos():\n",
        "  global lista\n",
        "\n",
        "  for registro in lista:\n",
        "    if registro[\"tipo\"] == \"investimento\":\n",
        "\n",
        "      data_hoje = datetime.today()\n",
        "      data_anterior = datetime.strptime(registro[\"data\"], '%d/%m/%Y')\n",
        "\n",
        "      diferenca_em_dias = (data_hoje - data_anterior).days\n",
        "\n",
        "      # Cálculo da taxa diária considerando a taxa de rendimento anual\n",
        "      taxa_rendimento_diaria = descobrir_taxa_diaria(taxa)\n",
        "\n",
        "      # Cálculo do rendimento atualizado\n",
        "      novo_rendimento = round(registro[\"montante\"] * (1 + taxa_rendimento_diaria) ** diferenca_em_dias,2)\n",
        "\n",
        "\n",
        "      registro[\"data\"] = data_hoje.strftime('%d/%m/%Y')\n",
        "      registro[\"montante\"] = novo_rendimento\n"
      ],
      "metadata": {
        "id": "slTCI7wHQYyG"
      },
      "execution_count": null,
      "outputs": []
    },
    {
      "cell_type": "markdown",
      "source": [
        "### 1.6 Agrupa Registros"
      ],
      "metadata": {
        "id": "EjIJAIq4oy4i"
      }
    },
    {
      "cell_type": "code",
      "source": [
        "\n",
        "def agrupar_registros_data(agrupador):\n",
        "    global lista\n",
        "    agrupados = {}\n",
        "\n",
        "    for item in lista:\n",
        "        if agrupador == 'dia':\n",
        "            chave = item['data']\n",
        "        elif agrupador == 'mes':\n",
        "            chave = item['data'][3:]\n",
        "        elif agrupador == 'ano':\n",
        "            chave = item['data'][6:]\n",
        "\n",
        "        valor = item['montante'] if item['tipo'] == 'investimento' else item['valor']\n",
        "\n",
        "        if chave in agrupados:\n",
        "            agrupados[chave] += valor\n",
        "        else:\n",
        "            agrupados[chave] = valor\n",
        "\n",
        "    return print(f\"\\n\\n{agrupados}\")\n"
      ],
      "metadata": {
        "id": "BsRQ5Cu8AQmE"
      },
      "execution_count": null,
      "outputs": []
    },
    {
      "cell_type": "markdown",
      "source": [
        "### 1.7 Importar Relatório (para lista inicial)"
      ],
      "metadata": {
        "id": "f8yUEWXPWLJ9"
      }
    },
    {
      "cell_type": "code",
      "source": [
        "def importar_relatorio(documento):\n",
        "  global lista\n",
        "  if documento in os.listdir('.'):\n",
        "    with open(documento, mode = 'r') as arquivo:\n",
        "      header = arquivo.readline().strip().split(\",\")\n",
        "      linhas = arquivo.readlines()\n",
        "      for l in linhas:\n",
        "        registro = {}\n",
        "        l = l.strip().split(\",\")\n",
        "        registro[header[0]] = l[0]\n",
        "        registro[header[1]] = l[1]\n",
        "        registro[header[2]] = float(l[2])\n",
        "        if l[3] not in [None,\"None\"]:\n",
        "          registro[header[3]] = float(l[3])\n",
        "        lista.append(registro)\n",
        "\n",
        "  else:\n",
        "    with open(documento, mode = 'w') as arquivo:\n",
        "      pass"
      ],
      "metadata": {
        "id": "YX-gz_scWVvm"
      },
      "execution_count": null,
      "outputs": []
    },
    {
      "cell_type": "markdown",
      "source": [
        "### 1.8 Exportar Relatório"
      ],
      "metadata": {
        "id": "dtgXYjwbo2fa"
      }
    },
    {
      "cell_type": "code",
      "source": [
        "def exportar_relatorio(arquivo):\n",
        "\n",
        "  with open(\"relatorio.csv\", \"w\") as documento:\n",
        "\n",
        "    cabecalho = \"data,tipo,valor,montante\" + \"\\n\"\n",
        "    documento.write(cabecalho)\n",
        "\n",
        "    for registro in arquivo:\n",
        "      linha = []\n",
        "\n",
        "      for chave, valor in registro.items():\n",
        "        linha.append(str(valor))\n",
        "      if len(registro) > 3:\n",
        "        linha = \",\".join(linha)\n",
        "      else:\n",
        "        linha = \",\".join(linha) + \",None\"\n",
        "\n",
        "      documento.write(linha + \"\\n\")\n",
        "\n",
        "  print(\"\\nO relatorio.csv foi exportado com sucesso!\")\n",
        "  divisoria()\n"
      ],
      "metadata": {
        "id": "Cf8udApNAnUS"
      },
      "execution_count": null,
      "outputs": []
    },
    {
      "cell_type": "markdown",
      "source": [
        "### 1.9 Menu Principal"
      ],
      "metadata": {
        "id": "c-Gz23niiXTv"
      }
    },
    {
      "cell_type": "code",
      "source": [
        "def menu_principal():\n",
        "\n",
        "  global lista\n",
        "  global consulta\n",
        "\n",
        "  print(\"\\nMenu do Sistema de Controle Financeiro do Grupo Cinco.\")\n",
        "  divisoria()\n",
        "  print(\"\\nQual operação você deseja fazer?\\n\")\n",
        "\n",
        "  print(\"1 - Criar Novo Registro.\\n\\n2 - Consultar Registros\\n\\n3 - Totalizar Registros\\n\\n4 - Atualizar Rendimentos\\n\\n5 - Exportar Relatório\\n\\n9 - Fechar Programa\\n\")\n",
        "  menu = input(\"Escolha: \")\n",
        "\n",
        "  # Enquanto não for imputado um número válido, voltará o input do menu.\n",
        "  while True:\n",
        "    divisoria()\n",
        "\n",
        "    # Escolha 1 - Criar Novo Registro.\n",
        "    if menu == \"1\":\n",
        "      print(\"\\nCerto! Você selecionou para criar um novo registro.\\n\")\n",
        "      print(\"\\nQual o tipo de registro que deseja fazer? Receita, Despesa ou Investimento.\\n\")\n",
        "      tipo = input(\"Tipo: \").lower()\n",
        "      while True:\n",
        "        if tipo in [\"receita\",\"despesa\",\"investimento\"]:\n",
        "          break\n",
        "        else:\n",
        "          print(\"\\n\\nOpção inválida! Digite um tipo entre Receita, Despesa ou Investimento.\\n\")\n",
        "          tipo = input(\"Tipo: \").lower()\n",
        "\n",
        "      print(f\"\\n\\nVocê selecionou {tipo}. Agora, digite um valor em número positivo.\\n\")\n",
        "      valor = input(\"Valor:\")\n",
        "      while confirma_valor_positivo(valor) == False:\n",
        "        print(\"\\n\\nOpção Inválida! Digite um número positivo para continuar.\\n\")\n",
        "        valor = input(\"Valor:\")\n",
        "      if tipo == \"investimento\":\n",
        "        print(\"\\n\\nDigite a data inicial do investimento em dd/mm/yyyy.\\n\")\n",
        "        data = input(\"Data: \")\n",
        "        while validar_formato_data(data) == False:\n",
        "          print(\"\\n\\nOpção Inválida! Digite a data inicial do investimento nof ormato correto em dd/mm/yyyy.\\n\")\n",
        "          data = input(\"Data: \")\n",
        "        novo = criar_registro(tipo= tipo, valor= valor, taxa_anual= taxa, data_inicio=data)\n",
        "        lista.append(novo)\n",
        "      else:\n",
        "        novo = criar_registro(tipo=tipo, valor=valor)\n",
        "        lista.append(novo)\n",
        "      menu_principal()\n",
        "      break\n",
        "\n",
        "\n",
        "    # Escolha 2 - Ler Registros (Essa escolha leva a poder alterar o registro ou rendimento, assim como deletar)\n",
        "    elif menu == \"2\":\n",
        "      print(\"\\nCerto! Você selecionou para consultar os registros.\\n\")\n",
        "      ler_registro()\n",
        "\n",
        "      contagem_registros_geral = 0\n",
        "      contagem_registros_investimento = 0\n",
        "\n",
        "      for registro in consulta:\n",
        "        contagem_registros_geral += 1\n",
        "        if registro['tipo'] == \"investimento\":\n",
        "          contagem_registros_investimento +=1\n",
        "\n",
        "      # Se o tamanho da queue for maior que 0, o código de busca acontecerá. Senão, retorna para o menu inicial.\n",
        "      if contagem_registros_geral == 0:\n",
        "          print(\"\\nComo não há valores na busca, você está sendo redirecionado para o menu principal\")\n",
        "          divisoria()\n",
        "          menu_principal()\n",
        "\n",
        "\n",
        "      else:\n",
        "        print(\"\\nQual seria a ação que deseja tomar em seguida?\\n\")\n",
        "      # Enquanto não for imputado um valor válido, será perguntado novamente o submenu\n",
        "        while True:\n",
        "          if contagem_registros_investimento > 0:\n",
        "            submenu = input(\"1 - Alterar Registro.\\n\\n2 - Deletar Registro.\\n\\n3 - Atualizar Rendimento do Investimento\\n\\n9 - Voltar para o Menu Principal\\n\\nEscolha: \")\n",
        "          else:\n",
        "            submenu = input(\"1 - Alterar Registro.\\n\\n2 - Deletar Registro.\\n\\n9 - Voltar para o Menu Principal\\n\\nEscolha: \")\n",
        "            while submenu not in [\"1\",\"2\",\"9\"]:\n",
        "              divisoria()\n",
        "              print(\"\\nOpção Inválida! Escolha entre 1, 2 ou 9.\\n\")\n",
        "              submenu = input(\"1 - Alterar Registro.\\n\\n2 - Deletar Registro.\\n\\n9 - Voltar para o Menu Principal\\n\\nEscolha: \")\n",
        "\n",
        "\n",
        "\n",
        "        # Alteração do Registro\n",
        "          if submenu == \"1\":\n",
        "            divisoria()\n",
        "\n",
        "            print(\"\\nOk! Alteração de Registro Selecionado.\\n\")\n",
        "\n",
        "            print(\"\\nEntre os registros lidos, qual você deseja alterar? Digite o ID\\n\")\n",
        "            id = input(\"ID: \")\n",
        "            while True:\n",
        "              try:\n",
        "                if confirma_valor_positivo(id):\n",
        "                  if int(id) <= contagem_registros_geral:\n",
        "                    break\n",
        "                  else:\n",
        "                    print(\"Opção inválida! Digite um ID presente na consulta\\n\")\n",
        "                    id = input(\"ID: \")\n",
        "              except:\n",
        "                print(\"Opção inválida! Digite um ID presente na consulta\\n\")\n",
        "                id = input(\"ID: \")\n",
        "            id = int(id)\n",
        "\n",
        "            for i, registro in enumerate(consulta):\n",
        "              if i == id-1:\n",
        "                deletar_registro(data=registro[\"data\"],tipo=registro[\"tipo\"],valor=registro[\"valor\"])\n",
        "\n",
        "            divisoria()\n",
        "            menu_principal()\n",
        "            break\n",
        "\n",
        "        # Deletar Registro\n",
        "          elif submenu == \"2\":\n",
        "            divisoria()\n",
        "\n",
        "            print(\"\\nOk! Deletar Registro Selecionado.\\n\")\n",
        "\n",
        "            print(\"\\nEntre os registros lidos, qual você deseja alterar? Digite o ID\\n\")\n",
        "            id = input(\"ID: \")\n",
        "            while True:\n",
        "              try:\n",
        "                if confirma_valor_positivo(id):\n",
        "                  if int(id) <= contagem_registros_geral:\n",
        "                    break\n",
        "                  else:\n",
        "                    print(\"Opção inválida! Digite um ID presente na consulta\\n\")\n",
        "                    id = input(\"ID: \")\n",
        "              except:\n",
        "                print(\"Opção inválida! Digite um ID presente na consulta\\n\")\n",
        "                id = input(\"ID: \")\n",
        "            id = int(id)\n",
        "\n",
        "            for i, registro in enumerate(consulta):\n",
        "              if i == id-1:\n",
        "                deletar_registro(data=registro[\"data\"],tipo=registro[\"tipo\"],valor=registro[\"valor\"])\n",
        "\n",
        "            divisoria()\n",
        "            menu_principal()\n",
        "            break\n",
        "\n",
        "        # Alterar Rendimento\n",
        "          elif submenu == \"3\":\n",
        "            divisoria()\n",
        "\n",
        "            print(\"\\nOk! Atualizar Registro Selecionado.\\n\")\n",
        "\n",
        "            print(\"\\nEntre os registros de investimento lidos, qual você deseja alterar? Digite o ID\\n\")\n",
        "            id = input(\"ID: \")\n",
        "            while True:\n",
        "              try:\n",
        "                if confirma_valor_positivo(id):\n",
        "                  if int(id) <= contagem_registros_geral:\n",
        "                    break\n",
        "                  else:\n",
        "                    print(\"Opção inválida! Digite um ID presente na consulta que seja um investimento\\n\")\n",
        "                    id = input(\"ID: \")\n",
        "              except:\n",
        "                print(\"Opção inválida! Digite um ID presente na consulta\\n\")\n",
        "                id = input(\"ID: \")\n",
        "            id = int(id)\n",
        "\n",
        "            if consulta[id-1][\"tipo\"] == \"investimento\":\n",
        "              print(\"\\nBeleza! E qual é a taxa em porcentagem?\\n\")\n",
        "              atualiza_rendimento(data=consulta[id-1][\"data\"], tipo=consulta[id-1][\"tipo\"], montante=consulta[id-1][\"montante\"], taxa_rendimento_anual = taxa)\n",
        "            else:\n",
        "              print(\"\\n\\nERRO: O evento selecionado não é um investimento. Retornando ao Menu Principal\")\n",
        "\n",
        "\n",
        "            divisoria()\n",
        "\n",
        "            menu_principal()\n",
        "            break\n",
        "\n",
        "        # Voltar ao Menu Principal\n",
        "          elif submenu == \"9\":\n",
        "            divisoria()\n",
        "\n",
        "            menu_principal()\n",
        "            break\n",
        "\n",
        "          else:\n",
        "            print(\"\\nOpção Inválida! Escolha entre 1, 2, 3 ou 9.\\n\")\n",
        "            submenu = input(\"1 - Alterar Registro.\\n\\n2 - Deletar Registro.\\n\\nn9 - Voltar para o Menu Principal\\n\\nEscolha: \")\n",
        "\n",
        "\n",
        "      break\n",
        "\n",
        "    # Escolha 3 - Totalizador de Valores\n",
        "    elif menu == \"3\":\n",
        "      print(\"\\nCerto! Você selecionou para totalizar os valores dos registros.\\n\")\n",
        "      print(\"\\nQual o tipo de data deseja agrupar? Dia, Mês ou Ano.\\n\")\n",
        "      agrupador = input(\"Agrupador: \").lower()\n",
        "      while True:\n",
        "        if agrupador in [\"dia\",\"mes\",\"mês\",\"ano\"]:\n",
        "          break\n",
        "        else:\n",
        "          print(\"\\n\\nOpção inválida! Digite um tipo de data entre Dia, Mês ou Ano.\\n\")\n",
        "          agrupador = input(\"Agrupador: \").lower()\n",
        "      agrupar_registros_data(agrupador)\n",
        "      divisoria()\n",
        "      menu_principal()\n",
        "      break\n",
        "\n",
        "    # Escolha 4 - Atualizar todos os rendimentos\n",
        "    elif menu == \"4\":\n",
        "      print(\"\\nCerto! Você selecionou para atualizar todos os investimentos.\\n\")\n",
        "      atualiza_todos_rendimentos()\n",
        "      menu_principal()\n",
        "      break\n",
        "\n",
        "    # Escolha 5 - Exportar Relatório\n",
        "    elif menu == \"5\":\n",
        "      print(\"\\nCerto! Você selecionou para exportar o relatório.\\n\")\n",
        "      exportar_relatorio(lista)\n",
        "      menu_principal()\n",
        "      break\n",
        "\n",
        "    # Escolha 6 - Sair do Programa\n",
        "    elif menu == \"9\":\n",
        "      print(\"\\nO programa será finalizado!\")\n",
        "      break\n",
        "\n",
        "    else:\n",
        "      print(\"\\nOpção inválida! Digite um valor de 1 a 5\\n\")\n",
        "      print(\"1 - Criar Novo Registro.\\n\\n2 - Consultar Registros\\n\\n3 - Totalizar Registros\\n\\n4 - Atualizar Rendimentos\\n\\n5 - Exportar Relatório\\n\\n9 - Fechar Programa\\n\")\n",
        "      menu = input(\"Escolha: \")"
      ],
      "metadata": {
        "id": "-eU4DB7DibwT"
      },
      "execution_count": null,
      "outputs": []
    },
    {
      "cell_type": "markdown",
      "source": [
        "# 2. Programa Principal"
      ],
      "metadata": {
        "id": "Kfpdz6s2Fgi2"
      }
    },
    {
      "cell_type": "code",
      "source": [
        "lista = []\n",
        "consulta = []\n",
        "taxa = 20\n",
        "\n",
        "importar_relatorio(\"relatorio.csv\")\n",
        "\n",
        "menu_principal()"
      ],
      "metadata": {
        "id": "G1Fj1vfRFr5f"
      },
      "execution_count": null,
      "outputs": []
    }
  ],
  "metadata": {
    "colab": {
      "private_outputs": true,
      "provenance": [],
      "collapsed_sections": [
        "TecLjMYjAmYV",
        "iAs452RGAukR",
        "h2lElfEvodH0",
        "aI-luhxvolO4",
        "YLdXr_cCouF9",
        "TZjgc32SQZem",
        "EjIJAIq4oy4i",
        "f8yUEWXPWLJ9",
        "dtgXYjwbo2fa"
      ]
    },
    "kernelspec": {
      "display_name": "Python 3",
      "language": "python",
      "name": "python3"
    },
    "language_info": {
      "codemirror_mode": {
        "name": "ipython",
        "version": 3
      },
      "file_extension": ".py",
      "mimetype": "text/x-python",
      "name": "python",
      "nbconvert_exporter": "python",
      "pygments_lexer": "ipython3",
      "version": "3.6.6"
    }
  },
  "nbformat": 4,
  "nbformat_minor": 0
}